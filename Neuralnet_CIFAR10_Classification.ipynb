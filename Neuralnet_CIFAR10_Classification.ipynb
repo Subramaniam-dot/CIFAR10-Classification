{
 "cells": [
  {
   "cell_type": "markdown",
   "metadata": {
    "id": "FyZ3qjrgsHNg"
   },
   "source": [
    "> # NEURAL NETWORKS MINI-PROJECT - CIFAR-10 CLASSIFICATION"
   ]
  },
  {
   "cell_type": "markdown",
   "metadata": {
    "id": "LwKyhxMAsSyZ"
   },
   "source": []
  },
  {
   "cell_type": "markdown",
   "metadata": {
    "id": "MNfAOlPS5gIF"
   },
   "source": [
    " # Image Classification on CIFAR10 Data"
   ]
  },
  {
   "cell_type": "markdown",
   "metadata": {
    "id": "52WfJ_sqlKh6"
   },
   "source": [
    "\n",
    "# Libraries\n",
    "> *   Import necessary PyTorch libraries and submodules for building and training neural networks.\n",
    "> *  Import other essential libraries such as NumPy for numerical operations and Matplotlib for plotting.\n",
    "> * Import the random library and set a random seed to ensure reproducibility of results across different runs.\n",
    "> * Check if a GPU is available for computation and assign it to a variable called compute_device. \n",
    "> * If a GPU is available, set the random seed for it and disable non-deterministic cuDNN algorithms to ensure reproducibility.\n",
    "\n"
   ]
  },
  {
   "cell_type": "code",
   "execution_count": null,
   "metadata": {
    "colab": {
     "base_uri": "https://localhost:8080/"
    },
    "id": "zq3txKmuiH4M",
    "outputId": "14bfd3be-f8ec-4f99-a56d-06bab435dbfa"
   },
   "outputs": [
    {
     "name": "stdout",
     "output_type": "stream",
     "text": [
      "Utilizing device: cuda:0\n"
     ]
    }
   ],
   "source": [
    "# Import required PyTorch libraries and submodules\n",
    "import torch\n",
    "import torch.nn as nn\n",
    "import torch.optim as optim\n",
    "from torch.utils.data import DataLoader\n",
    "import torchvision\n",
    "import torchvision.transforms as transforms\n",
    "from torch.optim.lr_scheduler import OneCycleLR\n",
    "from torch import Tensor\n",
    "\n",
    "# Import other essential libraries\n",
    "import numpy as np\n",
    "import matplotlib.pyplot as plt\n",
    "import os\n",
    "\n",
    "# Import random library and set random seed for reproducibility\n",
    "import random\n",
    "\n",
    "rand_seed = 1002\n",
    "torch.manual_seed(rand_seed)\n",
    "random.seed(rand_seed)\n",
    "np.random.seed(rand_seed)\n",
    "\n",
    "# Determine if GPU is accessible\n",
    "device = torch.device(\"cuda:0\" if torch.cuda.is_available() else \"cpu\")\n",
    "print(\"Utilizing device:\", device)\n",
    "\n",
    "# Set the random seed for GPU and disable non-deterministic cuDNN algorithms\n",
    "if device.type == 'cuda':\n",
    "    torch.cuda.manual_seed_all(rand_seed)\n",
    "    torch.backends.cudnn.deterministic = True\n",
    "    torch.backends.cudnn.benchmark = False\n"
   ]
  },
  {
   "cell_type": "markdown",
   "metadata": {
    "id": "mdk4f4vsse1L"
   },
   "source": [
    ">  ## Set hyperparameters and constants"
   ]
  },
  {
   "cell_type": "code",
   "execution_count": null,
   "metadata": {
    "id": "nNjz5KClsXQX"
   },
   "outputs": [],
   "source": [
    "batch_size = 128 # Number of samples per gradient update\n",
    "learning_rate = 0.001 # Initial learning rate for optimization\n",
    "num_epochs = 60 # Number of times the entire dataset is iterated\n",
    "num_blocks = 3 # Number of residual blocks in the network\n",
    "num_conv_layer = 3 # Number of convolutional layers per residual block"
   ]
  },
  {
   "cell_type": "markdown",
   "metadata": {
    "id": "EN-8TqaAspBR"
   },
   "source": [
    ">  ## CIFAR-10 dataset specific constants"
   ]
  },
  {
   "cell_type": "code",
   "execution_count": null,
   "metadata": {
    "id": "17VNnN7AsiGt"
   },
   "outputs": [],
   "source": [
    "num_classes = 10 # Number of distinct classes ('plane', 'car', 'bird', 'cat', 'deer', 'dog', 'frog', 'horse', 'ship', 'truck')\n",
    "input_channels = 3 # Number of color channels in input images (RGB)\n",
    "input_size = 32 # Height and width of input images in pixels"
   ]
  },
  {
   "cell_type": "markdown",
   "metadata": {
    "id": "_dxuuWvUs0lt"
   },
   "source": [
    "# Transformations\n",
    ">   Define necessary transformations for data augmentation and normalization"
   ]
  },
  {
   "cell_type": "code",
   "execution_count": null,
   "metadata": {
    "id": "yB6V4XldsspF"
   },
   "outputs": [],
   "source": [
    "transform_train = transforms.Compose([\n",
    "transforms.RandomHorizontalFlip(), # Randomly flip the image horizontally\n",
    "transforms.RandomCrop(input_size, padding=4), # Randomly crop the image with padding\n",
    "transforms.ToTensor(), # Convert the image to a PyTorch tensor\n",
    "transforms.Normalize((0.5, 0.5, 0.5), (0.5, 0.5, 0.5)) # Normalize the image with mean and std\n",
    "])"
   ]
  },
  {
   "cell_type": "markdown",
   "metadata": {
    "id": "H_mC2un_s9vg"
   },
   "source": [
    "\n",
    ">   Define necessary transformations for normalization only (for testing)"
   ]
  },
  {
   "cell_type": "code",
   "execution_count": null,
   "metadata": {
    "id": "Y7H8_Hiss_s4"
   },
   "outputs": [],
   "source": [
    "transform_test = transforms.Compose([\n",
    "transforms.ToTensor(), # Convert the image to a PyTorch tensor\n",
    "transforms.Normalize((0.5, 0.5, 0.5), (0.5, 0.5, 0.5)) # Normalize the image with mean and std\n",
    "])"
   ]
  },
  {
   "cell_type": "markdown",
   "metadata": {
    "id": "cMJxqx-dtB4h"
   },
   "source": [
    "  # Download the CIFAR-10 dataset and apply transformations"
   ]
  },
  {
   "cell_type": "code",
   "execution_count": null,
   "metadata": {
    "colab": {
     "base_uri": "https://localhost:8080/"
    },
    "id": "toTGeIsJtPgw",
    "outputId": "f2d35fff-aaa3-4ad2-a71e-65e49c1f0dd2"
   },
   "outputs": [
    {
     "name": "stdout",
     "output_type": "stream",
     "text": [
      "Files already downloaded and verified\n",
      "Files already downloaded and verified\n"
     ]
    }
   ],
   "source": [
    "train_set = torchvision.datasets.CIFAR10(root='./data', train=True, download=True, transform=transform_train) # Load the training data with specified transformations\n",
    "test_set = torchvision.datasets.CIFAR10(root='./data', train=False, download=True, transform=transform_test) # Load the testing data with specified transformations"
   ]
  },
  {
   "cell_type": "markdown",
   "metadata": {
    "id": "tCyCBmtjtT5S"
   },
   "source": [
    "# Create data loaders for train and test sets with specified batch size and worker settings"
   ]
  },
  {
   "cell_type": "code",
   "execution_count": null,
   "metadata": {
    "id": "ayqJHK07tY6R"
   },
   "outputs": [],
   "source": [
    "train_loader = DataLoader(train_set, batch_size=batch_size, shuffle=True, num_workers=2) # Create a train data loader with shuffling and using 2 workers\n",
    "test_loader = DataLoader(test_set, batch_size=batch_size, shuffle=False, num_workers=2) # Create a test data loader without shuffling and using 2 workers"
   ]
  },
  {
   "cell_type": "markdown",
   "metadata": {
    "id": "2m1NdmUftciI"
   },
   "source": [
    "  # Definition of BasicBlock class"
   ]
  },
  {
   "cell_type": "markdown",
   "metadata": {
    "id": "hWUFZN-Ouuyn"
   },
   "source": [
    ">   Constructor method of BasicBlock class that extends the nn.Module class. in_channels and out_channels are integers, and num_conv_layer is the number of convolutional layers.\n",
    ">   The nn.AdaptiveAvgPool2d module calculates the average of the input tensor and reduces the spatial dimensions to 1.\n",
    "\n",
    ">  A linear transformation is performed on the input tensor using nn.Linear. The number of input features is equal to the number of input channels, and the number of output features is equal to num_conv_layer. The nn.LeakyReLU activation function is applied in-place.\n",
    "\n",
    ">   nn.ModuleList is used to define a list of convolutional layers. Each layer contains a convolutional layer, a batch normalization layer, a LeakyReLU activation function, and a max-pooling layer. There are num_conv_layer convolutional layers in the block.\n",
    "\n",
    ">   The forward method of the BasicBlock class receives an input tensor x. The input tensor is passed through the nn.AdaptiveAvgPool2d module to obtain the spatial average."
   ]
  },
  {
   "cell_type": "code",
   "execution_count": null,
   "metadata": {
    "id": "HWSJzeRkuM4U"
   },
   "outputs": [],
   "source": [
    "class BasicBlock(nn.Module):\n",
    "    def __init__(self, in_channels, out_channels, num_conv_layer):\n",
    "        super(BasicBlock, self).__init__()\n",
    "        self.spatial_avg_pool = nn.AdaptiveAvgPool2d(1) #The nn.AdaptiveAvgPool2d module calculates the average of the input tensor and reduces the spatial dimensions to 1.\n",
    "        self.linear = nn.Linear(in_channels, num_conv_layer) # linear transformation\n",
    "        self.activation = nn.LeakyReLU(inplace=True) #LeakyReLU activation function\n",
    "        self.convs = nn.ModuleList([ # List of Convolution Layer\n",
    "            nn.Sequential(\n",
    "                nn.Conv2d(in_channels, out_channels, kernel_size=3, padding=1, stride=1),\n",
    "                nn.BatchNorm2d(out_channels),\n",
    "                nn.LeakyReLU(inplace=True),\n",
    "                nn.MaxPool2d(kernel_size=2, stride=2)\n",
    "            )\n",
    "        \n",
    "            for _ in range(num_conv_layer)\n",
    "        ])\n",
    "\n",
    " # Add a new convolutional layer with batch normalization and activation\n",
    "        self.convs.append(\n",
    "            nn.Sequential(\n",
    "                nn.Conv2d(out_channels, out_channels, kernel_size=3, padding=1, stride=1),\n",
    "                nn.BatchNorm2d(out_channels),\n",
    "                nn.LeakyReLU(inplace=True),\n",
    "                nn.MaxPool2d(kernel_size=2, stride=2)\n",
    "            )\n",
    "        )\n",
    "    def forward(self, x):\n",
    "        spatial_avg = self.spatial_avg_pool(x).view(x.size(0), -1) # Spatial average is obtained\n",
    "        a = self.activation(self.linear(spatial_avg))\n",
    "\n",
    "        def apply_conv(conv: nn.Sequential, x: Tensor) -> Tensor:\n",
    "            return conv(x)\n",
    "        #The torch.jit.fork function is used to create a separate computation graph for each convolutional layer, allowing for parallel computation.\n",
    "        #The sum of the element-wise multiplication of a slice of the tensor a and the corresponding output tensor from apply_conv is taken.\n",
    "        #This process is repeated for each convolutional layer in self.convs.    \n",
    "        outputs = [torch.jit.fork(apply_conv, self.convs[i], x) for i in range(a.size(1))]\n",
    "        O = sum(a[:, i].view(-1, 1, 1, 1) * torch.jit.wait(outputs[i]) for i in range(a.size(1)))\n",
    "\n",
    "        return O\n",
    "\n"
   ]
  },
  {
   "cell_type": "markdown",
   "metadata": {
    "id": "v0VrMa_hvwrH"
   },
   "source": [
    "## Class Backbone\n",
    ">   This class defines a neural network module for backbone architecture.\n",
    ">   It takes four parameters:\n",
    "\n",
    ">  * num_blocks: number of blocks in the backbone architecture\n",
    ">  * in_channels: number of input channels\n",
    ">  * out_channels: number of output channels\n",
    ">  * num_conv_layer: number of convolutional layers in each block\n"
   ]
  },
  {
   "cell_type": "markdown",
   "metadata": {
    "id": "TsZxveAwwEJ-"
   },
   "source": [
    "# Method init\n",
    ">  * Initializes the Backbone class with the given parameters.\n",
    ">  * Defines a list of ModuleList containing BasicBlock instances for each block in the backbone architecture.\n",
    " # Method forward\n",
    ">  * Takes an input tensor x and passes it through each block sequentially.\n",
    ">  * Returns the output of the last block.\n",
    "\n",
    "\n"
   ]
  },
  {
   "cell_type": "code",
   "execution_count": null,
   "metadata": {
    "id": "1C1z2EObwJGm"
   },
   "outputs": [],
   "source": [
    "class Backbone(nn.Module):\n",
    "    def __init__(self, num_blocks, in_channels, out_channels, num_conv_layer):\n",
    "        super(Backbone, self).__init__()\n",
    "\n",
    "        self.blocks = nn.ModuleList([\n",
    "            BasicBlock(in_channels if i == 0 else out_channels, out_channels, num_conv_layer) #a list of ModuleList containing BasicBlock instances for each block in the backbone architecture\n",
    "            for i in range(num_blocks)\n",
    "        ])\n",
    "\n",
    "    def forward(self, x):\n",
    "        # Pass the input tensor through each block sequentially\n",
    "        for block in self.blocks:\n",
    "            x = block(x)\n",
    "\n",
    "        # Return the output of the last block (ON)\n",
    "        return x"
   ]
  },
  {
   "cell_type": "markdown",
   "metadata": {
    "id": "H3xwkb-3wa-u"
   },
   "source": [
    "# Class Classifier\n",
    ">  This class defines a neural network module for classification.\n",
    "> * It takes three parameters:\n",
    "> * in_features: number of input features\n",
    "> * hidden_size: number of hidden units in the MLP layers\n",
    "> * num_classes: number of output classes\n",
    "# Method init\n",
    "> * Initializes the Classifier class with the given parameters.\n",
    "> * Defines an AdaptiveAvgPool2d layer to compute the mean feature.\n",
    "> * Defines an MLP with three linear layers:\n",
    "> * First linear layer with input size in_features and output size hidden_size\n",
    "> * Second linear layer with input and output size hidden_size\n",
    "> * Final linear layer with input size hidden_size and output size num_classes\n",
    "> * Adds batch normalization and dropout layers after each linear layer except the final one.\n",
    "# Method forward\n",
    "> * Takes an input tensor x.\n",
    "> * Computes the mean feature f by applying the spatial average pooling layer on x and flattening the output.\n",
    "> * Passes f through the MLP layers.\n",
    "> *  Returns the class logits."
   ]
  },
  {
   "cell_type": "code",
   "execution_count": null,
   "metadata": {
    "id": "DHjcetoKwMiq"
   },
   "outputs": [],
   "source": [
    "class Classifier(nn.Module):\n",
    "    def __init__(self, in_features, hidden_size, num_classes):\n",
    "        super(Classifier, self).__init__()\n",
    "\n",
    "        self.spatial_avg_pool = nn.AdaptiveAvgPool2d(1)  #Defines an AdaptiveAvgPool2d layer to compute the mean feature\n",
    "        \n",
    "        # Updated MLP with additional layers and batch normalization\n",
    "        self.mlp = nn.Sequential(\n",
    "            # First linear layer\n",
    "            nn.Linear(in_features, hidden_size),\n",
    "            nn.BatchNorm1d(hidden_size),  # Added batch normalization\n",
    "            nn.LeakyReLU(inplace=True),\n",
    "            nn.Dropout(p=0.5),\n",
    "\n",
    "            # Second linear layer (added for increased depth)\n",
    "            nn.Linear(hidden_size, hidden_size),\n",
    "            nn.BatchNorm1d(hidden_size),  # Added batch normalization\n",
    "            nn.LeakyReLU(inplace=True),\n",
    "            nn.Dropout(p=0.5),\n",
    "\n",
    "            # Final linear layer for classification\n",
    "            nn.Linear(hidden_size, num_classes)\n",
    "        )\n",
    "\n",
    "    def forward(self, x):\n",
    "        # Compute the mean feature f as SpatialAveragePool(ON)\n",
    "        f = self.spatial_avg_pool(x).view(x.size(0), -1)\n",
    "\n",
    "        # Pass f through the classifier layers (MLP)\n",
    "        logits = self.mlp(f)\n",
    "\n",
    "        # Return the class logits\n",
    "        return logits\n"
   ]
  },
  {
   "cell_type": "markdown",
   "metadata": {
    "id": "shu15boUwh7C"
   },
   "source": [
    "# Class Model\n",
    "> * This class extends the nn.Module class and takes six parameters:\n",
    "> * num_blocks: number of blocks in the backbone architecture\n",
    "> * input_channels: number of input channels\n",
    "> * backbone_out_channels: number of output channels in the backbone architecture\n",
    "> * num_conv_layer: number of convolutional layers in each block of the backbone architecture\n",
    "> * hidden_size: size of the hidden layer in the classifier\n",
    "> * num_classes: number of classes in the classification task\n",
    "\n",
    "# Method init\n",
    "> * Initializes the Model class with the given parameters.\n",
    "> * Creates an instance of the Backbone module and an instance of the Classifier module.\n",
    " # Method forward\n",
    "> * Takes an input tensor x and passes it through the Backbone module to get the feature representation.\n",
    "> * Passes the output of the Backbone module to the Classifier module to get the logits.\n",
    "> * Returns the logits."
   ]
  },
  {
   "cell_type": "code",
   "execution_count": null,
   "metadata": {
    "id": "-pPxtysOw2k9"
   },
   "outputs": [],
   "source": [
    "class Model(nn.Module):\n",
    "    def __init__(self, num_blocks, input_channels, backbone_out_channels, num_conv_layer, hidden_size, num_classes):\n",
    "        super(Model, self).__init__()\n",
    "\n",
    "        self.backbone = Backbone(num_blocks, input_channels, backbone_out_channels, num_conv_layer)\n",
    "        self.classifier = Classifier(backbone_out_channels, hidden_size, num_classes)\n",
    "\n",
    "    def forward(self, x):\n",
    "        x = self.backbone(x) # Takes an input tensor x and passes it through the Backbone module to get the feature representation.\n",
    "        logits = self.classifier(x)\n",
    "        return logits"
   ]
  },
  {
   "cell_type": "code",
   "execution_count": null,
   "metadata": {
    "id": "syZlHS1ZxKQO"
   },
   "outputs": [],
   "source": [
    "# Initialize the model with desired parameters\n",
    "model = Model(num_blocks, input_channels, backbone_out_channels=1024, num_conv_layer=num_conv_layer, hidden_size=512, num_classes=num_classes).to(device)"
   ]
  },
  {
   "cell_type": "markdown",
   "metadata": {
    "id": "l7BptJI1xRGd"
   },
   "source": [
    "# Loss Function\n",
    "\n",
    "> * The Cross Entropy Loss measures the difference between the predicted probability distribution and the actual probability distribution of the target class. It does this by computing the negative log-likelihood of the predicted class. The output of the loss function is a scalar value which represents the average loss over all samples in the mini-batch.\n",
    "\n",
    "> * The loss function is defined as \"Lossfunc\" and can be used during training to calculate the loss of the model's predictions and optimize the model's parameters to minimize this loss."
   ]
  },
  {
   "cell_type": "code",
   "execution_count": null,
   "metadata": {
    "id": "DDVa1WFOxdgY"
   },
   "outputs": [],
   "source": [
    "# Define the loss function\n",
    "Lossfunc = nn.CrossEntropyLoss()\n"
   ]
  },
  {
   "cell_type": "markdown",
   "metadata": {
    "id": "exp3DSrvxgYA"
   },
   "source": [
    "# Optimizer - Ranger\n",
    "\n",
    "\n",
    "> * model.parameters() specifies the parameters of the model to be optimized.\n",
    "> * lr=learning_rate sets the learning rate of the optimizer to the value of the learning_rate variable.\n",
    "> * weight_decay=1e-2 sets the L2 regularization strength for the optimizer. A weight decay of 1e-2 means that the weights will be decayed by 0.01 at each update. This helps prevent overfitting of the model by penalizing large weights.\n",
    "> * The optimizer variable holds the instance of the optimizer with the specified settings."
   ]
  },
  {
   "cell_type": "code",
   "execution_count": null,
   "metadata": {
    "colab": {
     "base_uri": "https://localhost:8080/"
    },
    "id": "qkMPyD8SVfaw",
    "outputId": "3609e77f-982d-4c9a-ee93-3db8b528b404"
   },
   "outputs": [
    {
     "name": "stdout",
     "output_type": "stream",
     "text": [
      "fatal: destination path 'Ranger-Deep-Learning-Optimizer' already exists and is not an empty directory.\n"
     ]
    }
   ],
   "source": [
    "!git clone https://github.com/lessw2020/Ranger-Deep-Learning-Optimizer"
   ]
  },
  {
   "cell_type": "code",
   "execution_count": null,
   "metadata": {
    "colab": {
     "base_uri": "https://localhost:8080/"
    },
    "id": "d6wNB9LkGuCP",
    "outputId": "b4806217-886c-4a1d-c430-da0c970539d6"
   },
   "outputs": [
    {
     "name": "stdout",
     "output_type": "stream",
     "text": [
      "working directory/content/Ranger-Deep-Learning-Optimizerempty text file created. You can also run !pwd command to confirm working directory.\n"
     ]
    }
   ],
   "source": [
    "#setting path in colab\n",
    " \n",
    "import os\n",
    "\n",
    "#set the working directory \n",
    "\n",
    "root_dir = \"/content/\"\n",
    "\n",
    "#choose the project folder\n",
    "project_folder = \"Ranger-Deep-Learning-Optimizer\"\n",
    "\n",
    "#define a function to create and set the working directory\n",
    "def create_and_set_working_directory(project_folder):\n",
    "  #check if the project folder exists. if not, make one.\n",
    "  if os.path.isdir(root_dir + project_folder) == False:\n",
    "    os.mkdir(root_dir + project_folder)\n",
    "    print(root_dir + project_folder + 'did not existed and was created.')\n",
    "  \n",
    "  #change the OS path to project folder as working directory\n",
    "os.chdir(root_dir + project_folder)\n",
    "\n",
    "  #create a test file in the working directory and see if it shows up at the right place\n",
    "!touch 'new_file_test.txt'\n",
    "print('working directory' + root_dir + project_folder + \\\n",
    "        \"empty text file created. You can also run !pwd command to confirm working directory.\")\n",
    "\n",
    "create_and_set_working_directory(project_folder)\n",
    "#to set working directory"
   ]
  },
  {
   "cell_type": "code",
   "execution_count": null,
   "metadata": {
    "colab": {
     "base_uri": "https://localhost:8080/"
    },
    "id": "p2e2TBDfF-ln",
    "outputId": "886e38ff-ad30-4b5b-e177-f15e75851312"
   },
   "outputs": [
    {
     "name": "stdout",
     "output_type": "stream",
     "text": [
      "Looking in indexes: https://pypi.org/simple, https://us-python.pkg.dev/colab-wheels/public/simple/\n",
      "Obtaining file:///content/Ranger-Deep-Learning-Optimizer\n",
      "  Preparing metadata (setup.py) ... \u001b[?25l\u001b[?25hdone\n",
      "Requirement already satisfied: torch in /usr/local/lib/python3.9/dist-packages (from ranger==0.1.dev0) (2.0.0+cu118)\n",
      "Requirement already satisfied: typing-extensions in /usr/local/lib/python3.9/dist-packages (from torch->ranger==0.1.dev0) (4.5.0)\n",
      "Requirement already satisfied: jinja2 in /usr/local/lib/python3.9/dist-packages (from torch->ranger==0.1.dev0) (3.1.2)\n",
      "Requirement already satisfied: sympy in /usr/local/lib/python3.9/dist-packages (from torch->ranger==0.1.dev0) (1.11.1)\n",
      "Requirement already satisfied: filelock in /usr/local/lib/python3.9/dist-packages (from torch->ranger==0.1.dev0) (3.11.0)\n",
      "Requirement already satisfied: networkx in /usr/local/lib/python3.9/dist-packages (from torch->ranger==0.1.dev0) (3.1)\n",
      "Requirement already satisfied: triton==2.0.0 in /usr/local/lib/python3.9/dist-packages (from torch->ranger==0.1.dev0) (2.0.0)\n",
      "Requirement already satisfied: lit in /usr/local/lib/python3.9/dist-packages (from triton==2.0.0->torch->ranger==0.1.dev0) (16.0.1)\n",
      "Requirement already satisfied: cmake in /usr/local/lib/python3.9/dist-packages (from triton==2.0.0->torch->ranger==0.1.dev0) (3.25.2)\n",
      "Requirement already satisfied: MarkupSafe>=2.0 in /usr/local/lib/python3.9/dist-packages (from jinja2->torch->ranger==0.1.dev0) (2.1.2)\n",
      "Requirement already satisfied: mpmath>=0.19 in /usr/local/lib/python3.9/dist-packages (from sympy->torch->ranger==0.1.dev0) (1.3.0)\n",
      "Installing collected packages: ranger\n",
      "  Attempting uninstall: ranger\n",
      "    Found existing installation: ranger 0.1.dev0\n",
      "    Can't uninstall 'ranger'. No files were found to uninstall.\n",
      "  Running setup.py develop for ranger\n",
      "Successfully installed ranger-0.1.dev0\n"
     ]
    }
   ],
   "source": [
    "\n",
    "!pip install -e . "
   ]
  },
  {
   "cell_type": "code",
   "execution_count": null,
   "metadata": {
    "colab": {
     "base_uri": "https://localhost:8080/"
    },
    "id": "7xdMriwIxgGJ",
    "outputId": "666d7269-7d76-4def-e2b9-5b5dc8305e10"
   },
   "outputs": [
    {
     "name": "stdout",
     "output_type": "stream",
     "text": [
      "Ranger optimizer loaded. \n",
      "Gradient Centralization usage = True\n",
      "GC applied to both conv and fc layers\n"
     ]
    }
   ],
   "source": [
    "\n",
    "from ranger import Ranger  # this is from ranger.py\n",
    "from ranger import RangerVA  # this is from ranger913A.py\n",
    "from ranger import RangerQH  # this is from rangerqh.py\n",
    "\n",
    "\n",
    "# Define the optimizer\n",
    "optimizer = Ranger(model.parameters(), lr=learning_rate, weight_decay=1e-2)\n"
   ]
  },
  {
   "cell_type": "markdown",
   "metadata": {
    "id": "HhbGYowAycjZ"
   },
   "source": [
    "# Scheduler\n",
    "\n",
    "\n",
    "\n"
   ]
  },
  {
   "cell_type": "markdown",
   "metadata": {
    "id": "WVm1j8Mrz-oK"
   },
   "source": [
    "One Cycle LR Scheduler offers Faster Convergence, Improved generalization, Automatic Learning rate annealing, reduced need for extensive hyperparameter tuning, Robustness to weight initialization and batch size, Momentum Scheduling.\n"
   ]
  },
  {
   "cell_type": "code",
   "execution_count": null,
   "metadata": {
    "id": "URhmaBI2x9PC"
   },
   "outputs": [],
   "source": [
    "# After defining the optimizer\n",
    "\n",
    "# One-Cycle Learning Rate Scheduler\n",
    "\n",
    "steps_per_epoch = len(train_loader)\n",
    "scheduler = OneCycleLR(optimizer, max_lr=0.1, total_steps=num_epochs*steps_per_epoch, anneal_strategy='linear')"
   ]
  },
  {
   "cell_type": "markdown",
   "metadata": {
    "id": "j0iMyPBeymJa"
   },
   "source": [
    "> * train_Loss: to store the training losses for each epoch\n",
    "> * train_accuracy: to store the training accuracies for each epoch\n",
    "> * test_Loss: to store the testing losses for each epoch\n",
    "> * test_accuracy: to store the testing accuracies for each epoch\n",
    "\n",
    "\n",
    "> These lists can be used to track the performance of the model during training and testing and can help in analyzing and improving the model's performance. The values for these lists are usually updated after each epoch of the training and testing phases of the model."
   ]
  },
  {
   "cell_type": "code",
   "execution_count": null,
   "metadata": {
    "id": "tqT3DSf3x_9E"
   },
   "outputs": [],
   "source": [
    "# Add lists to store losses and accuracies for each epoch\n",
    "train_Loss = []\n",
    "train_accuracy = []\n",
    "test_Loss = []\n",
    "test_accuracy = []\n",
    "\n",
    "\n"
   ]
  },
  {
   "cell_type": "markdown",
   "metadata": {
    "id": "pyGTckYazLPy"
   },
   "source": [
    "# Training the model\n",
    "> *  The model is trained for a specified number of epochs (num_epochs).\n",
    "> * For each epoch, the training loss (train_loss), number of correct predictions (correct), and total number of examples (total) are initialized to 0.\n",
    "> * The model is set to training mode using the train() method.\n",
    "> * For each batch of examples (inputs, labels) in the training data (train_loader), the inputs and labels are moved to the device (CPU or GPU) using the to() method.\n",
    "> * The optimizer's gradients are set to zero using the zero_grad() method.\n",
    "> * The inputs are passed through the model using the forward() method to get the outputs.\n",
    "> * The loss between the outputs and labels is calculated using the specified loss function (Lossfunc).\n",
    "> * The gradients of the loss are calculated using backward() method.\n",
    "> * The optimizer is updated using the step() method.\n",
    "> * The training loss is updated with the item() method to obtain the scalar value of the loss.\n",
    "> * The number of correct predictions and total number of examples are calculated and accumulated.\n",
    "> * The learning rate is updated using the scheduler's step() method."
   ]
  },
  {
   "cell_type": "markdown",
   "metadata": {
    "id": "uDxZrXtrzMN9"
   },
   "source": [
    "# Evaluating the model\n",
    "> * The model is set to evaluation mode using the eval() method.\n",
    "> * The inputs are passed through the model using the forward() method to get the outputs.\n",
    "> * The loss between the outputs and labels is calculated using the specified loss function (Lossfunc).\n",
    "> * The test loss is updated with the item() method to obtain the scalar value of the loss.\n",
    "> * The number of correct predictions and total number of examples are calculated and accumulated.\n"
   ]
  },
  {
   "cell_type": "code",
   "execution_count": null,
   "metadata": {
    "colab": {
     "base_uri": "https://localhost:8080/"
    },
    "id": "a5T14SVGyB4i",
    "outputId": "c8483863-9f5f-4bb8-a748-e5ffda5aa7d9"
   },
   "outputs": [
    {
     "name": "stdout",
     "output_type": "stream",
     "text": [
      "Epoch [1/60],Train Accuracy: 33.74%,Test Accuracy: 51.17%, Train Loss: 1.7770,Test Loss: 1.3875\n",
      "Epoch [2/60],Train Accuracy: 54.34%,Test Accuracy: 58.74%, Train Loss: 1.2695,Test Loss: 1.1412\n",
      "Epoch [3/60],Train Accuracy: 62.59%,Test Accuracy: 65.54%, Train Loss: 1.0594,Test Loss: 0.9952\n",
      "Epoch [4/60],Train Accuracy: 67.63%,Test Accuracy: 68.28%, Train Loss: 0.9248,Test Loss: 0.8947\n",
      "Epoch [5/60],Train Accuracy: 70.90%,Test Accuracy: 70.03%, Train Loss: 0.8350,Test Loss: 0.8316\n",
      "Epoch [6/60],Train Accuracy: 73.87%,Test Accuracy: 76.34%, Train Loss: 0.7535,Test Loss: 0.6710\n",
      "Epoch [7/60],Train Accuracy: 75.73%,Test Accuracy: 78.47%, Train Loss: 0.7001,Test Loss: 0.6189\n",
      "Epoch [8/60],Train Accuracy: 77.62%,Test Accuracy: 78.12%, Train Loss: 0.6496,Test Loss: 0.6330\n",
      "Epoch [9/60],Train Accuracy: 79.13%,Test Accuracy: 78.40%, Train Loss: 0.6033,Test Loss: 0.6331\n",
      "Epoch [10/60],Train Accuracy: 80.60%,Test Accuracy: 78.79%, Train Loss: 0.5657,Test Loss: 0.6131\n",
      "Epoch [11/60],Train Accuracy: 81.76%,Test Accuracy: 80.84%, Train Loss: 0.5321,Test Loss: 0.5762\n",
      "Epoch [12/60],Train Accuracy: 82.88%,Test Accuracy: 82.36%, Train Loss: 0.5017,Test Loss: 0.5046\n",
      "Epoch [13/60],Train Accuracy: 84.01%,Test Accuracy: 83.41%, Train Loss: 0.4712,Test Loss: 0.4852\n",
      "Epoch [14/60],Train Accuracy: 84.78%,Test Accuracy: 82.99%, Train Loss: 0.4441,Test Loss: 0.4914\n",
      "Epoch [15/60],Train Accuracy: 85.64%,Test Accuracy: 83.38%, Train Loss: 0.4164,Test Loss: 0.4822\n",
      "Epoch [16/60],Train Accuracy: 86.72%,Test Accuracy: 84.85%, Train Loss: 0.3876,Test Loss: 0.4569\n",
      "Epoch [17/60],Train Accuracy: 87.53%,Test Accuracy: 84.45%, Train Loss: 0.3673,Test Loss: 0.4594\n",
      "Epoch [18/60],Train Accuracy: 87.99%,Test Accuracy: 85.67%, Train Loss: 0.3485,Test Loss: 0.4200\n",
      "Epoch [19/60],Train Accuracy: 88.89%,Test Accuracy: 86.06%, Train Loss: 0.3246,Test Loss: 0.4171\n",
      "Epoch [20/60],Train Accuracy: 89.32%,Test Accuracy: 85.18%, Train Loss: 0.3107,Test Loss: 0.4474\n",
      "Epoch [21/60],Train Accuracy: 90.22%,Test Accuracy: 86.50%, Train Loss: 0.2837,Test Loss: 0.4112\n",
      "Epoch [22/60],Train Accuracy: 90.60%,Test Accuracy: 86.29%, Train Loss: 0.2745,Test Loss: 0.4101\n",
      "Epoch [23/60],Train Accuracy: 91.23%,Test Accuracy: 85.34%, Train Loss: 0.2540,Test Loss: 0.4465\n",
      "Epoch [24/60],Train Accuracy: 91.86%,Test Accuracy: 87.63%, Train Loss: 0.2376,Test Loss: 0.3800\n",
      "Epoch [25/60],Train Accuracy: 92.10%,Test Accuracy: 87.87%, Train Loss: 0.2280,Test Loss: 0.3738\n",
      "Epoch [26/60],Train Accuracy: 92.49%,Test Accuracy: 87.44%, Train Loss: 0.2154,Test Loss: 0.4052\n",
      "Epoch [27/60],Train Accuracy: 93.00%,Test Accuracy: 86.84%, Train Loss: 0.2008,Test Loss: 0.4187\n",
      "Epoch [28/60],Train Accuracy: 93.47%,Test Accuracy: 87.37%, Train Loss: 0.1916,Test Loss: 0.4099\n",
      "Epoch [29/60],Train Accuracy: 93.72%,Test Accuracy: 86.66%, Train Loss: 0.1813,Test Loss: 0.4597\n",
      "Epoch [30/60],Train Accuracy: 94.21%,Test Accuracy: 88.20%, Train Loss: 0.1716,Test Loss: 0.4002\n",
      "Epoch [31/60],Train Accuracy: 94.51%,Test Accuracy: 88.54%, Train Loss: 0.1613,Test Loss: 0.3899\n",
      "Epoch [32/60],Train Accuracy: 94.79%,Test Accuracy: 88.01%, Train Loss: 0.1523,Test Loss: 0.3940\n",
      "Epoch [33/60],Train Accuracy: 94.83%,Test Accuracy: 87.78%, Train Loss: 0.1462,Test Loss: 0.4070\n",
      "Epoch [34/60],Train Accuracy: 95.04%,Test Accuracy: 88.13%, Train Loss: 0.1451,Test Loss: 0.4220\n",
      "Epoch [35/60],Train Accuracy: 95.58%,Test Accuracy: 87.84%, Train Loss: 0.1303,Test Loss: 0.4079\n",
      "Epoch [36/60],Train Accuracy: 95.61%,Test Accuracy: 88.36%, Train Loss: 0.1265,Test Loss: 0.3935\n",
      "Epoch [37/60],Train Accuracy: 95.52%,Test Accuracy: 88.26%, Train Loss: 0.1294,Test Loss: 0.4097\n",
      "Epoch [38/60],Train Accuracy: 95.89%,Test Accuracy: 88.48%, Train Loss: 0.1211,Test Loss: 0.4043\n",
      "Epoch [39/60],Train Accuracy: 96.13%,Test Accuracy: 88.68%, Train Loss: 0.1138,Test Loss: 0.3924\n",
      "Epoch [40/60],Train Accuracy: 96.47%,Test Accuracy: 87.93%, Train Loss: 0.1043,Test Loss: 0.4398\n",
      "Epoch [41/60],Train Accuracy: 96.29%,Test Accuracy: 88.26%, Train Loss: 0.1079,Test Loss: 0.4270\n",
      "Epoch [42/60],Train Accuracy: 96.55%,Test Accuracy: 88.29%, Train Loss: 0.1015,Test Loss: 0.4147\n",
      "Epoch [43/60],Train Accuracy: 96.55%,Test Accuracy: 88.73%, Train Loss: 0.1001,Test Loss: 0.4235\n",
      "Epoch [44/60],Train Accuracy: 96.63%,Test Accuracy: 88.51%, Train Loss: 0.0971,Test Loss: 0.4284\n",
      "Epoch [45/60],Train Accuracy: 96.92%,Test Accuracy: 88.10%, Train Loss: 0.0915,Test Loss: 0.4518\n",
      "Epoch [46/60],Train Accuracy: 96.81%,Test Accuracy: 88.17%, Train Loss: 0.0937,Test Loss: 0.4548\n",
      "Epoch [47/60],Train Accuracy: 96.92%,Test Accuracy: 88.32%, Train Loss: 0.0874,Test Loss: 0.4325\n",
      "Epoch [48/60],Train Accuracy: 97.05%,Test Accuracy: 89.08%, Train Loss: 0.0865,Test Loss: 0.4031\n",
      "Epoch [49/60],Train Accuracy: 97.11%,Test Accuracy: 89.01%, Train Loss: 0.0851,Test Loss: 0.4608\n",
      "Epoch [50/60],Train Accuracy: 96.99%,Test Accuracy: 88.50%, Train Loss: 0.0858,Test Loss: 0.4432\n",
      "Epoch [51/60],Train Accuracy: 97.23%,Test Accuracy: 87.78%, Train Loss: 0.0822,Test Loss: 0.4954\n",
      "Epoch [52/60],Train Accuracy: 97.30%,Test Accuracy: 89.17%, Train Loss: 0.0793,Test Loss: 0.4148\n",
      "Epoch [53/60],Train Accuracy: 97.38%,Test Accuracy: 86.83%, Train Loss: 0.0771,Test Loss: 0.5562\n",
      "Epoch [54/60],Train Accuracy: 97.32%,Test Accuracy: 88.34%, Train Loss: 0.0783,Test Loss: 0.4477\n",
      "Epoch [55/60],Train Accuracy: 97.43%,Test Accuracy: 89.21%, Train Loss: 0.0746,Test Loss: 0.4093\n",
      "Epoch [56/60],Train Accuracy: 97.51%,Test Accuracy: 88.96%, Train Loss: 0.0722,Test Loss: 0.4350\n",
      "Epoch [57/60],Train Accuracy: 97.56%,Test Accuracy: 88.60%, Train Loss: 0.0727,Test Loss: 0.4640\n",
      "Epoch [58/60],Train Accuracy: 97.54%,Test Accuracy: 88.52%, Train Loss: 0.0729,Test Loss: 0.4450\n",
      "Epoch [59/60],Train Accuracy: 97.64%,Test Accuracy: 87.42%, Train Loss: 0.0703,Test Loss: 0.5280\n",
      "Epoch [60/60],Train Accuracy: 97.69%,Test Accuracy: 88.39%, Train Loss: 0.0697,Test Loss: 0.4572\n"
     ]
    }
   ],
   "source": [
    "# Add lists to store losses and accuracies for each epoch\n",
    "train_losses = []\n",
    "train_accuracies = []\n",
    "test_losses = []\n",
    "test_accuracies = []\n",
    "\n",
    "# Train the model\n",
    "for epoch in range(num_epochs):\n",
    "    train_loss = 0.0\n",
    "    correct = 0\n",
    "    total = 0\n",
    "\n",
    "    model.train()  # Set the model to training mode\n",
    "\n",
    "    for i, (inputs, labels) in enumerate(train_loader):\n",
    "        inputs, labels = inputs.to(device), labels.to(device)\n",
    "\n",
    "        # Zero the parameter gradients\n",
    "        optimizer.zero_grad()\n",
    "\n",
    "        # Forward pass\n",
    "        outputs = model(inputs)\n",
    "\n",
    "        # Calculate the loss\n",
    "        loss = Lossfunc(outputs, labels)\n",
    "\n",
    "        # Backward pass and optimization\n",
    "        loss.backward()\n",
    "        optimizer.step()\n",
    "\n",
    "        # Update training loss\n",
    "        train_loss += loss.item()\n",
    "\n",
    "        # Compute training accuracy\n",
    "        _, predicted = outputs.max(1)\n",
    "        total += labels.size(0)\n",
    "        correct += predicted.eq(labels).sum().item()\n",
    "\n",
    "    # Update the learning rate using the scheduler\n",
    "    scheduler.step()\n",
    "\n",
    "    # Evaluate the model\n",
    "    model.eval()  # Set the model to evaluation mode\n",
    "\n",
    "    test_loss = 0.0\n",
    "    test_correct = 0\n",
    "    test_total = 0\n",
    "\n",
    "    with torch.no_grad():\n",
    "        for inputs, labels in test_loader:\n",
    "            inputs, labels = inputs.to(device), labels.to(device)\n",
    "\n",
    "            # Forward pass\n",
    "            outputs = model(inputs)\n",
    "\n",
    "            # Calculate the loss\n",
    "            loss = Lossfunc(outputs, labels)\n",
    "\n",
    "            # Update test loss\n",
    "            test_loss += loss.item()\n",
    "\n",
    "            # Compute test accuracy\n",
    "            _, predicted = outputs.max(1)\n",
    "            test_total += labels.size(0)\n",
    "            test_correct += predicted.eq(labels).sum().item()\n",
    "\n",
    "    # Compute and report the average test loss and test accuracy\n",
    "    avg_test_loss = test_loss / len(test_loader)\n",
    "    test_accuracy = 100 * test_correct / test_total\n",
    "    \n",
    "    train_losses.append(train_loss / len(train_loader))\n",
    "    train_accuracies.append(100 * correct / total)\n",
    "    test_losses.append(avg_test_loss)\n",
    "    test_accuracies.append(test_accuracy)\n",
    "    # Print training progress\n",
    "    print(f'Epoch [{epoch+1}/{num_epochs}],Train Accuracy: {100*correct/total:.2f}%,Test Accuracy: {test_accuracy:.2f}%, Train Loss: {train_loss/len(train_loader):.4f},Test Loss: {avg_test_loss:.4f}')\n",
    "    \n"
   ]
  },
  {
   "cell_type": "markdown",
   "metadata": {
    "id": "AXJaZ5v7zO-t"
   },
   "source": [
    "# Computing and reporting average test loss and test accuracy\n",
    "> * The average test loss is computed by dividing the test loss by the length of the test data loader.\n",
    "> * The test accuracy is computed by dividing the number of correct predictions by the total number of examples and multiplying by 100.\n",
    "> * The training and test loss and accuracy values are appended to lists for further analysis.\n",
    "> * The training progress is printed for each epoch."
   ]
  },
  {
   "cell_type": "code",
   "execution_count": null,
   "metadata": {
    "colab": {
     "base_uri": "https://localhost:8080/",
     "height": 927
    },
    "id": "D-tGqrJgyHKJ",
    "outputId": "9bdff51f-894e-462f-ab17-d88e033b84a6"
   },
   "outputs": [
    {
     "data": {
      "image/png": "[encoded data removed]",
      "text/plain": [
       "<Figure size 640x480 with 1 Axes>"
      ]
     },
     "metadata": {},
     "output_type": "display_data"
    },
    {
     "data": {
      "image/png": "[encoded data removed]",
      "text/plain": [
       "<Figure size 640x480 with 1 Axes>"
      ]
     },
     "metadata": {},
     "output_type": "display_data"
    }
   ],
   "source": [
    "# Plot the loss curves\n",
    "plt.figure()\n",
    "plt.plot(train_losses, label=\"Training Loss\")\n",
    "plt.plot(test_losses, label=\"Test Loss\")\n",
    "plt.xlabel(\"Epoch\")\n",
    "plt.ylabel(\"Loss\")\n",
    "plt.legend()\n",
    "plt.title(\"Loss Curves\")\n",
    "plt.show()\n",
    "\n",
    "# Plot the accuracy curves\n",
    "plt.figure()\n",
    "plt.plot(train_accuracies, label=\"Training Accuracy\")\n",
    "plt.plot(test_accuracies, label=\"Test Accuracy\")\n",
    "plt.xlabel(\"Epoch\")\n",
    "plt.ylabel(\"Accuracy\")\n",
    "plt.legend()\n",
    "plt.title(\"Accuracy Curves\")\n",
    "plt.show()"
   ]
  },
  {
   "cell_type": "code",
   "execution_count": null,
   "metadata": {
    "colab": {
     "base_uri": "https://localhost:8080/",
     "height": 766
    },
    "id": "b7efZ38V-G23",
    "outputId": "d570c1f9-f4d5-4433-8aaa-6257012a0381"
   },
   "outputs": [
    {
     "name": "stderr",
     "output_type": "stream",
     "text": [
      "WARNING:matplotlib.image:Clipping input data to the valid range for imshow with RGB data ([0..1] for floats or [0..255] for integers).\n",
      "WARNING:matplotlib.image:Clipping input data to the valid range for imshow with RGB data ([0..1] for floats or [0..255] for integers).\n",
      "WARNING:matplotlib.image:Clipping input data to the valid range for imshow with RGB data ([0..1] for floats or [0..255] for integers).\n",
      "WARNING:matplotlib.image:Clipping input data to the valid range for imshow with RGB data ([0..1] for floats or [0..255] for integers).\n",
      "WARNING:matplotlib.image:Clipping input data to the valid range for imshow with RGB data ([0..1] for floats or [0..255] for integers).\n",
      "WARNING:matplotlib.image:Clipping input data to the valid range for imshow with RGB data ([0..1] for floats or [0..255] for integers).\n",
      "WARNING:matplotlib.image:Clipping input data to the valid range for imshow with RGB data ([0..1] for floats or [0..255] for integers).\n",
      "WARNING:matplotlib.image:Clipping input data to the valid range for imshow with RGB data ([0..1] for floats or [0..255] for integers).\n",
      "WARNING:matplotlib.image:Clipping input data to the valid range for imshow with RGB data ([0..1] for floats or [0..255] for integers).\n",
      "WARNING:matplotlib.image:Clipping input data to the valid range for imshow with RGB data ([0..1] for floats or [0..255] for integers).\n",
      "WARNING:matplotlib.image:Clipping input data to the valid range for imshow with RGB data ([0..1] for floats or [0..255] for integers).\n",
      "WARNING:matplotlib.image:Clipping input data to the valid range for imshow with RGB data ([0..1] for floats or [0..255] for integers).\n",
      "WARNING:matplotlib.image:Clipping input data to the valid range for imshow with RGB data ([0..1] for floats or [0..255] for integers).\n",
      "WARNING:matplotlib.image:Clipping input data to the valid range for imshow with RGB data ([0..1] for floats or [0..255] for integers).\n",
      "WARNING:matplotlib.image:Clipping input data to the valid range for imshow with RGB data ([0..1] for floats or [0..255] for integers).\n",
      "WARNING:matplotlib.image:Clipping input data to the valid range for imshow with RGB data ([0..1] for floats or [0..255] for integers).\n"
     ]
    },
    {
     "data": {
      "image/png": "[encoded data removed]",
      "text/plain": [
       "<Figure size 1500x600 with 16 Axes>"
      ]
     },
     "metadata": {},
     "output_type": "display_data"
    }
   ],
   "source": [
    "# Validation set visualization\n",
    "model.eval()  # Set the model to evaluation mode\n",
    "\n",
    "# Select a random subset of images from the validation set\n",
    "indices = np.random.choice(len(test_set), size=16, replace=False)\n",
    "test_images = [test_set[i][0] for i in indices]\n",
    "val_labels = [test_set[i][1] for i in indices]\n",
    "\n",
    "# Predict the labels for the selected images\n",
    "with torch.no_grad():\n",
    "    test_images = torch.stack(test_images).to(device)\n",
    "    test_outputs = model(test_images)\n",
    "    test_predicted_labels = test_outputs.argmax(dim=1).cpu().numpy()\n",
    "\n",
    "# Display the selected images with predicted and actual labels\n",
    "plt.figure(figsize=(15, 6))\n",
    "for i in range(len(indices)):\n",
    "    plt.subplot(2, 8, i + 1)\n",
    "    plt.imshow(test_images[i].cpu().numpy().transpose(1, 2, 0))\n",
    "    plt.axis(\"off\")\n",
    "    \n",
    "     \n",
    "    title = f\"Predicted: {test_predicted_labels[i]},\\nActual: {val_labels[i]}\"\n",
    "    plt.title(title, y=-0.3, fontsize=10, pad=8)\n",
    "\n",
    "plt.tight_layout()\n",
    "plt.show()\n"
   ]
  },
  {
   "cell_type": "markdown",
   "metadata": {
    "id": "UVIQnwh0-MyX"
   },
   "source": [
    "# Conclusion:\n",
    "\n",
    "Implementation of Custom architecture of this model for image classification on CIFAR-10 Dataset has given a training accuracy of 97.69 % and test accuracy of 88.39 % on 60th Epoch. \n",
    "\n",
    "The results show that model's performance on the CIFAR-10 dataset has improved over the course of 60 epochs. The highest test accuracy (89.21%) is achieved in epoch 55, with a corresponding test loss of 0.4093.\n",
    "\n",
    "The model's training accuracy increases from 33.74% in the first epoch to 97.69% in the final epoch. Meanwhile, the test accuracy increases from 51.17% to 88.39%. This shows that the model is learning and generalizing well to the test set, though there is a gap between training and test accuracy, which may indicate overfitting.\n"
   ]
  },
  {
   "cell_type": "markdown",
   "metadata": {
    "id": "D9vxp49I-PtW"
   },
   "source": [
    "# Reference:\n",
    "\n",
    "# Data Augmentation:\n",
    "> *https://towardsdatascience.com/data-augmentation-for-deep-learning-4fe21d1a4eb9\n",
    "\n",
    "# Convolutions:\n",
    "> * https://towardsdatascience.com/a-comprehensive-introduction-to-different-types-of-convolutions-in-deep-learning-669281e58215\n",
    "\n",
    "## Scheduler - One Cycle Learning rate Scheduler\n",
    "> * https://pytorch.org/docs/stable/generated/torch.optim.lr_scheduler.OneCycleLR.html\n",
    "\n",
    "## Optimizer - Ranger\n",
    "\n",
    "> * citation:\n",
    "@misc{Ranger,\n",
    "  author = {Wright, Less},\n",
    "  title = {Ranger - a synergistic optimizer.},\n",
    "  year = {2019},\n",
    "  publisher = {GitHub},\n",
    "  journal = {GitHub repository},\n",
    "  howpublished = {\\url{https://github.com/lessw2020/Ranger-Deep-Learning-Optimizer}}\n",
    "}\n",
    "> * https://medium.com/@lessw/new-deep-learning-optimizer-ranger-synergistic-combination-of-radam-lookahead-for-the-best-of-2dc83f79a48d"
   ]
  }
 ],
 "metadata": {
  "accelerator": "GPU",
  "colab": {
   "provenance": []
  },
  "gpuClass": "premium",
  "kernelspec": {
   "display_name": "Python 3 (ipykernel)",
   "language": "python",
   "name": "python3"
  },
  "language_info": {
   "codemirror_mode": {
    "name": "ipython",
    "version": 3
   },
   "file_extension": ".py",
   "mimetype": "text/x-python",
   "name": "python",
   "nbconvert_exporter": "python",
   "pygments_lexer": "ipython3",
   "version": "3.10.6"
  }
 },
 "nbformat": 4,
 "nbformat_minor": 1
}
